{
 "cells": [
  {
   "cell_type": "code",
   "execution_count": 1,
   "id": "43f0b829",
   "metadata": {},
   "outputs": [],
   "source": [
    "import warnings\n",
    "warnings.filterwarnings('ignore')\n",
    "\n",
    "import pandas as pd\n",
    "import matplotlib.pyplot as plt\n",
    "%matplotlib inline\n",
    "import seaborn as sns\n",
    "import numpy as np\n",
    "\n",
    "from statsmodels.graphics.tsaplots import plot_acf, plot_pacf\n",
    "import statsmodels.tsa.api as sm\n",
    "from statsmodels.tsa.stattools import adfuller\n",
    "import matplotlib.pyplot as plt\n",
    "\n",
    "from statsmodels.tsa.statespace.sarimax import SARIMAX"
   ]
  },
  {
   "cell_type": "code",
   "execution_count": 2,
   "id": "d5840055",
   "metadata": {},
   "outputs": [],
   "source": [
    "df=pd.read_csv('Global Electricity Statistics.csv')"
   ]
  },
  {
   "cell_type": "code",
   "execution_count": 3,
   "id": "13384e4d",
   "metadata": {},
   "outputs": [
    {
     "data": {
      "text/html": [
       "<div>\n",
       "<style scoped>\n",
       "    .dataframe tbody tr th:only-of-type {\n",
       "        vertical-align: middle;\n",
       "    }\n",
       "\n",
       "    .dataframe tbody tr th {\n",
       "        vertical-align: top;\n",
       "    }\n",
       "\n",
       "    .dataframe thead th {\n",
       "        text-align: right;\n",
       "    }\n",
       "</style>\n",
       "<table border=\"1\" class=\"dataframe\">\n",
       "  <thead>\n",
       "    <tr style=\"text-align: right;\">\n",
       "      <th></th>\n",
       "      <th>Country</th>\n",
       "      <th>Features</th>\n",
       "      <th>Region</th>\n",
       "      <th>1980</th>\n",
       "      <th>1981</th>\n",
       "      <th>1982</th>\n",
       "      <th>1983</th>\n",
       "      <th>1984</th>\n",
       "      <th>1985</th>\n",
       "      <th>1986</th>\n",
       "      <th>...</th>\n",
       "      <th>2012</th>\n",
       "      <th>2013</th>\n",
       "      <th>2014</th>\n",
       "      <th>2015</th>\n",
       "      <th>2016</th>\n",
       "      <th>2017</th>\n",
       "      <th>2018</th>\n",
       "      <th>2019</th>\n",
       "      <th>2020</th>\n",
       "      <th>2021</th>\n",
       "    </tr>\n",
       "  </thead>\n",
       "  <tbody>\n",
       "    <tr>\n",
       "      <th>0</th>\n",
       "      <td>Algeria</td>\n",
       "      <td>net generation</td>\n",
       "      <td>Africa</td>\n",
       "      <td>6.683</td>\n",
       "      <td>7.65</td>\n",
       "      <td>8.824</td>\n",
       "      <td>9.615</td>\n",
       "      <td>10.537</td>\n",
       "      <td>11.569</td>\n",
       "      <td>12.214</td>\n",
       "      <td>...</td>\n",
       "      <td>53.9845</td>\n",
       "      <td>56.3134</td>\n",
       "      <td>60.39972</td>\n",
       "      <td>64.68244</td>\n",
       "      <td>66.75504</td>\n",
       "      <td>71.49546</td>\n",
       "      <td>72.10903</td>\n",
       "      <td>76.685</td>\n",
       "      <td>72.73591277</td>\n",
       "      <td>77.53072719</td>\n",
       "    </tr>\n",
       "    <tr>\n",
       "      <th>1</th>\n",
       "      <td>Angola</td>\n",
       "      <td>net generation</td>\n",
       "      <td>Africa</td>\n",
       "      <td>0.905</td>\n",
       "      <td>0.906</td>\n",
       "      <td>0.995</td>\n",
       "      <td>1.028</td>\n",
       "      <td>1.028</td>\n",
       "      <td>1.028</td>\n",
       "      <td>1.088</td>\n",
       "      <td>...</td>\n",
       "      <td>6.03408</td>\n",
       "      <td>7.97606</td>\n",
       "      <td>9.21666</td>\n",
       "      <td>9.30914</td>\n",
       "      <td>10.203511</td>\n",
       "      <td>10.67604</td>\n",
       "      <td>12.83194</td>\n",
       "      <td>15.4</td>\n",
       "      <td>16.6</td>\n",
       "      <td>16.429392</td>\n",
       "    </tr>\n",
       "    <tr>\n",
       "      <th>2</th>\n",
       "      <td>Benin</td>\n",
       "      <td>net generation</td>\n",
       "      <td>Africa</td>\n",
       "      <td>0.005</td>\n",
       "      <td>0.005</td>\n",
       "      <td>0.005</td>\n",
       "      <td>0.005</td>\n",
       "      <td>0.005</td>\n",
       "      <td>0.005</td>\n",
       "      <td>0.005</td>\n",
       "      <td>...</td>\n",
       "      <td>0.04612</td>\n",
       "      <td>0.08848</td>\n",
       "      <td>0.22666</td>\n",
       "      <td>0.31056</td>\n",
       "      <td>0.26004</td>\n",
       "      <td>0.3115</td>\n",
       "      <td>0.19028</td>\n",
       "      <td>0.2017</td>\n",
       "      <td>0.22608</td>\n",
       "      <td>0.24109728</td>\n",
       "    </tr>\n",
       "    <tr>\n",
       "      <th>3</th>\n",
       "      <td>Botswana</td>\n",
       "      <td>net generation</td>\n",
       "      <td>Africa</td>\n",
       "      <td>0.443</td>\n",
       "      <td>0.502</td>\n",
       "      <td>0.489</td>\n",
       "      <td>0.434</td>\n",
       "      <td>0.445</td>\n",
       "      <td>0.456</td>\n",
       "      <td>0.538</td>\n",
       "      <td>...</td>\n",
       "      <td>0.33</td>\n",
       "      <td>0.86868</td>\n",
       "      <td>2.17628</td>\n",
       "      <td>2.79104</td>\n",
       "      <td>2.52984</td>\n",
       "      <td>2.8438</td>\n",
       "      <td>2.97076</td>\n",
       "      <td>3.0469</td>\n",
       "      <td>2.05144</td>\n",
       "      <td>2.18234816</td>\n",
       "    </tr>\n",
       "    <tr>\n",
       "      <th>4</th>\n",
       "      <td>Burkina Faso</td>\n",
       "      <td>net generation</td>\n",
       "      <td>Africa</td>\n",
       "      <td>0.098</td>\n",
       "      <td>0.108</td>\n",
       "      <td>0.115</td>\n",
       "      <td>0.117</td>\n",
       "      <td>0.113</td>\n",
       "      <td>0.115</td>\n",
       "      <td>0.122</td>\n",
       "      <td>...</td>\n",
       "      <td>0.86834</td>\n",
       "      <td>0.98268</td>\n",
       "      <td>1.11808</td>\n",
       "      <td>1.43986</td>\n",
       "      <td>1.5509</td>\n",
       "      <td>1.64602</td>\n",
       "      <td>1.6464</td>\n",
       "      <td>1.72552</td>\n",
       "      <td>1.647133174</td>\n",
       "      <td>1.761209666</td>\n",
       "    </tr>\n",
       "  </tbody>\n",
       "</table>\n",
       "<p>5 rows × 45 columns</p>\n",
       "</div>"
      ],
      "text/plain": [
       "                Country        Features  Region   1980   1981   1982   1983  \\\n",
       "0               Algeria  net generation  Africa  6.683   7.65  8.824  9.615   \n",
       "1                Angola  net generation  Africa  0.905  0.906  0.995  1.028   \n",
       "2                 Benin  net generation  Africa  0.005  0.005  0.005  0.005   \n",
       "3              Botswana  net generation  Africa  0.443  0.502  0.489  0.434   \n",
       "4          Burkina Faso  net generation  Africa  0.098  0.108  0.115  0.117   \n",
       "\n",
       "     1984    1985    1986  ...     2012     2013      2014      2015  \\\n",
       "0  10.537  11.569  12.214  ...  53.9845  56.3134  60.39972  64.68244   \n",
       "1   1.028   1.028   1.088  ...  6.03408  7.97606   9.21666   9.30914   \n",
       "2   0.005   0.005   0.005  ...  0.04612  0.08848   0.22666   0.31056   \n",
       "3   0.445   0.456   0.538  ...     0.33  0.86868   2.17628   2.79104   \n",
       "4   0.113   0.115   0.122  ...  0.86834  0.98268   1.11808   1.43986   \n",
       "\n",
       "        2016      2017      2018     2019         2020         2021  \n",
       "0   66.75504  71.49546  72.10903   76.685  72.73591277  77.53072719  \n",
       "1  10.203511  10.67604  12.83194     15.4         16.6    16.429392  \n",
       "2    0.26004    0.3115   0.19028   0.2017      0.22608   0.24109728  \n",
       "3    2.52984    2.8438   2.97076   3.0469      2.05144   2.18234816  \n",
       "4     1.5509   1.64602    1.6464  1.72552  1.647133174  1.761209666  \n",
       "\n",
       "[5 rows x 45 columns]"
      ]
     },
     "execution_count": 3,
     "metadata": {},
     "output_type": "execute_result"
    }
   ],
   "source": [
    "df.head()"
   ]
  },
  {
   "cell_type": "code",
   "execution_count": 4,
   "id": "cbe514fb",
   "metadata": {
    "collapsed": true
   },
   "outputs": [
    {
     "name": "stdout",
     "output_type": "stream",
     "text": [
      "<class 'pandas.core.frame.DataFrame'>\n",
      "RangeIndex: 1610 entries, 0 to 1609\n",
      "Data columns (total 45 columns):\n",
      " #   Column    Non-Null Count  Dtype \n",
      "---  ------    --------------  ----- \n",
      " 0   Country   1610 non-null   object\n",
      " 1   Features  1610 non-null   object\n",
      " 2   Region    1610 non-null   object\n",
      " 3   1980      1582 non-null   object\n",
      " 4   1981      1582 non-null   object\n",
      " 5   1982      1582 non-null   object\n",
      " 6   1983      1582 non-null   object\n",
      " 7   1984      1582 non-null   object\n",
      " 8   1985      1582 non-null   object\n",
      " 9   1986      1582 non-null   object\n",
      " 10  1987      1582 non-null   object\n",
      " 11  1988      1582 non-null   object\n",
      " 12  1989      1582 non-null   object\n",
      " 13  1990      1582 non-null   object\n",
      " 14  1991      1582 non-null   object\n",
      " 15  1992      1582 non-null   object\n",
      " 16  1993      1582 non-null   object\n",
      " 17  1994      1582 non-null   object\n",
      " 18  1995      1582 non-null   object\n",
      " 19  1996      1582 non-null   object\n",
      " 20  1997      1582 non-null   object\n",
      " 21  1998      1582 non-null   object\n",
      " 22  1999      1582 non-null   object\n",
      " 23  2000      1582 non-null   object\n",
      " 24  2001      1582 non-null   object\n",
      " 25  2002      1582 non-null   object\n",
      " 26  2003      1582 non-null   object\n",
      " 27  2004      1582 non-null   object\n",
      " 28  2005      1582 non-null   object\n",
      " 29  2006      1582 non-null   object\n",
      " 30  2007      1582 non-null   object\n",
      " 31  2008      1582 non-null   object\n",
      " 32  2009      1582 non-null   object\n",
      " 33  2010      1582 non-null   object\n",
      " 34  2011      1582 non-null   object\n",
      " 35  2012      1582 non-null   object\n",
      " 36  2013      1582 non-null   object\n",
      " 37  2014      1582 non-null   object\n",
      " 38  2015      1582 non-null   object\n",
      " 39  2016      1582 non-null   object\n",
      " 40  2017      1582 non-null   object\n",
      " 41  2018      1582 non-null   object\n",
      " 42  2019      1582 non-null   object\n",
      " 43  2020      1579 non-null   object\n",
      " 44  2021      1584 non-null   object\n",
      "dtypes: object(45)\n",
      "memory usage: 566.1+ KB\n"
     ]
    }
   ],
   "source": [
    "df.info()"
   ]
  },
  {
   "cell_type": "code",
   "execution_count": 6,
   "id": "5cf497ab",
   "metadata": {
    "collapsed": true
   },
   "outputs": [
    {
     "data": {
      "text/plain": [
       "Country     0.000000\n",
       "Features    0.000000\n",
       "Region      0.000000\n",
       "1980        1.739130\n",
       "1981        1.739130\n",
       "1982        1.739130\n",
       "1983        1.739130\n",
       "1984        1.739130\n",
       "1985        1.739130\n",
       "1986        1.739130\n",
       "1987        1.739130\n",
       "1988        1.739130\n",
       "1989        1.739130\n",
       "1990        1.739130\n",
       "1991        1.739130\n",
       "1992        1.739130\n",
       "1993        1.739130\n",
       "1994        1.739130\n",
       "1995        1.739130\n",
       "1996        1.739130\n",
       "1997        1.739130\n",
       "1998        1.739130\n",
       "1999        1.739130\n",
       "2000        1.739130\n",
       "2001        1.739130\n",
       "2002        1.739130\n",
       "2003        1.739130\n",
       "2004        1.739130\n",
       "2005        1.739130\n",
       "2006        1.739130\n",
       "2007        1.739130\n",
       "2008        1.739130\n",
       "2009        1.739130\n",
       "2010        1.739130\n",
       "2011        1.739130\n",
       "2012        1.739130\n",
       "2013        1.739130\n",
       "2014        1.739130\n",
       "2015        1.739130\n",
       "2016        1.739130\n",
       "2017        1.739130\n",
       "2018        1.739130\n",
       "2019        1.739130\n",
       "2020        1.925466\n",
       "2021        1.614907\n",
       "dtype: float64"
      ]
     },
     "execution_count": 6,
     "metadata": {},
     "output_type": "execute_result"
    }
   ],
   "source": [
    "df.isnull().sum()/len(df)*100"
   ]
  },
  {
   "cell_type": "code",
   "execution_count": 7,
   "id": "28f34238",
   "metadata": {},
   "outputs": [],
   "source": [
    "# Since there is just a small percentage of null values in each year, null values are dropped. \n",
    "df.dropna(axis=0, inplace=True)"
   ]
  },
  {
   "cell_type": "code",
   "execution_count": 9,
   "id": "7ce66f74",
   "metadata": {},
   "outputs": [
    {
     "data": {
      "text/plain": [
       "False"
      ]
     },
     "execution_count": 9,
     "metadata": {},
     "output_type": "execute_result"
    }
   ],
   "source": [
    "df.isnull().values.any()"
   ]
  },
  {
   "cell_type": "code",
   "execution_count": 11,
   "id": "45ce18f4",
   "metadata": {
    "collapsed": true
   },
   "outputs": [
    {
     "data": {
      "text/plain": [
       "array(['        Algeria', '        Angola', '        Benin',\n",
       "       '        Botswana', '        Burkina Faso', '        Burundi',\n",
       "       '        Cabo Verde', '        Cameroon',\n",
       "       '        Central African Republic', '        Chad',\n",
       "       '        Comoros', '        Congo-Brazzaville',\n",
       "       '        Congo-Kinshasa', \"        Cote d'Ivoire\",\n",
       "       '        Djibouti', '        Egypt', '        Equatorial Guinea',\n",
       "       '        Eritrea', '        Eswatini', '        Ethiopia',\n",
       "       '        Gabon', '        Gambia, The', '        Ghana',\n",
       "       '        Guinea', '        Guinea-Bissau', '        Kenya',\n",
       "       '        Lesotho', '        Liberia', '        Libya',\n",
       "       '        Madagascar', '        Malawi', '        Mali',\n",
       "       '        Mauritania', '        Mauritius', '        Morocco',\n",
       "       '        Mozambique', '        Namibia', '        Niger',\n",
       "       '        Nigeria', '        Reunion', '        Rwanda',\n",
       "       '        Saint Helena', '        Sao Tome and Principe',\n",
       "       '        Senegal', '        Seychelles', '        Sierra Leone',\n",
       "       '        Somalia', '        South Africa', '        South Sudan',\n",
       "       '        Sudan', '        Tanzania', '        Togo',\n",
       "       '        Tunisia', '        Uganda', '        Western Sahara',\n",
       "       '        Zambia', '        Zimbabwe', '        Armenia',\n",
       "       '        Azerbaijan', '        Belarus', '        Former U.S.S.R.',\n",
       "       '        Georgia', '        Kazakhstan', '        Kyrgyzstan',\n",
       "       '        Moldova', '        Russia', '        Tajikistan',\n",
       "       '        Turkmenistan', '        Ukraine', '        Uzbekistan',\n",
       "       '        Albania', '        Austria', '        Belgium',\n",
       "       '        Bosnia and Herzegovina', '        Bulgaria',\n",
       "       '        Croatia', '        Cyprus', '        Czechia',\n",
       "       '        Denmark', '        Estonia', '        Faroe Islands',\n",
       "       '        Finland', '        Former Czechoslovakia',\n",
       "       '        Former Serbia and Montenegro',\n",
       "       '        Former Yugoslavia', '        France', '        Germany',\n",
       "       '        Germany, East', '        Germany, West',\n",
       "       '        Gibraltar', '        Greece', '        Hungary',\n",
       "       '        Iceland', '        Ireland', '        Italy',\n",
       "       '        Kosovo', '        Latvia', '        Lithuania',\n",
       "       '        Luxembourg', '        Malta', '        Montenegro',\n",
       "       '        Netherlands', '        North Macedonia', '        Norway',\n",
       "       '        Poland', '        Portugal', '        Romania',\n",
       "       '        Serbia', '        Slovakia', '        Slovenia',\n",
       "       '        Spain', '        Sweden', '        Switzerland',\n",
       "       '        Turkiye', '        United Kingdom', '        Afghanistan',\n",
       "       '        American Samoa', '        Australia',\n",
       "       '        Bangladesh', '        Bhutan', '        Brunei',\n",
       "       '        Burma', '        Cambodia', '        China',\n",
       "       '        Cook Islands', '        Fiji', '        French Polynesia',\n",
       "       '        Guam', '        Hawaiian Trade Zone', '        Hong Kong',\n",
       "       '        India', '        Indonesia', '        Japan',\n",
       "       '        Kiribati', '        Laos', '        Macau',\n",
       "       '        Malaysia', '        Maldives', '        Mongolia',\n",
       "       '        Nauru', '        Nepal', '        New Caledonia',\n",
       "       '        New Zealand', '        Niue', '        North Korea',\n",
       "       '        Pakistan', '        Papua New Guinea',\n",
       "       '        Philippines', '        Samoa', '        Singapore',\n",
       "       '        Solomon Islands', '        South Korea',\n",
       "       '        Sri Lanka', '        Taiwan', '        Thailand',\n",
       "       '        Timor-Leste', '        Tonga',\n",
       "       '        U.S. Pacific Islands', '        Vanuatu',\n",
       "       '        Vietnam', '        Wake Island', '        Bahrain',\n",
       "       '        Iran', '        Iraq', '        Israel', '        Jordan',\n",
       "       '        Kuwait', '        Lebanon', '        Oman',\n",
       "       '        Palestinian Territories', '        Qatar',\n",
       "       '        Saudi Arabia', '        Syria',\n",
       "       '        United Arab Emirates', '        Yemen', '        Bermuda',\n",
       "       '        Canada', '        Greenland', '        Mexico',\n",
       "       '        Saint Pierre and Miquelon', '        United States',\n",
       "       '        Antarctica', '        Antigua and Barbuda',\n",
       "       '        Argentina', '        Aruba', '        Barbados',\n",
       "       '        Belize', '        Bolivia', '        Brazil',\n",
       "       '        British Virgin Islands', '        Cayman Islands',\n",
       "       '        Chile', '        Colombia', '        Costa Rica',\n",
       "       '        Cuba', '        Dominica', '        Dominican Republic',\n",
       "       '        Ecuador', '        El Salvador',\n",
       "       '        Falkland Islands', '        French Guiana',\n",
       "       '        Grenada', '        Guadeloupe', '        Guatemala',\n",
       "       '        Guyana', '        Haiti', '        Honduras',\n",
       "       '        Jamaica', '        Martinique', '        Montserrat',\n",
       "       '        Netherlands Antilles', '        Nicaragua',\n",
       "       '        Panama', '        Paraguay', '        Peru',\n",
       "       '        Puerto Rico', '        Saint Kitts and Nevis',\n",
       "       '        Saint Lucia', '        Saint Vincent/Grenadines',\n",
       "       '        Suriname', '        The Bahamas',\n",
       "       '        Trinidad and Tobago', '        Turks and Caicos Islands',\n",
       "       '        U.S. Virgin Islands', '        Uruguay',\n",
       "       '        Venezuela'], dtype=object)"
      ]
     },
     "execution_count": 11,
     "metadata": {},
     "output_type": "execute_result"
    }
   ],
   "source": [
    "# Explore categorical variables.\n",
    "df['Country'].unique()"
   ]
  },
  {
   "cell_type": "code",
   "execution_count": 14,
   "id": "38c70e23",
   "metadata": {},
   "outputs": [
    {
     "data": {
      "text/plain": [
       "Region\n",
       "Africa                     398\n",
       "Asia & Oceania             322\n",
       "Europe                     315\n",
       "Central & South America    312\n",
       "Middle East                 98\n",
       "Eurasia                     91\n",
       "North America               42\n",
       "Name: count, dtype: int64"
      ]
     },
     "execution_count": 14,
     "metadata": {},
     "output_type": "execute_result"
    }
   ],
   "source": [
    "df['Region'].value_counts()"
   ]
  },
  {
   "cell_type": "code",
   "execution_count": 15,
   "id": "41b1ab2b",
   "metadata": {},
   "outputs": [
    {
     "data": {
      "text/plain": [
       "Features\n",
       "net generation          226\n",
       "net consumption         226\n",
       "imports                 226\n",
       "exports                 226\n",
       "installed capacity      226\n",
       "distribution losses     226\n",
       "net imports             222\n",
       "Name: count, dtype: int64"
      ]
     },
     "execution_count": 15,
     "metadata": {},
     "output_type": "execute_result"
    }
   ],
   "source": [
    "df['Features'].value_counts()"
   ]
  },
  {
   "cell_type": "code",
   "execution_count": 18,
   "id": "15aff28d",
   "metadata": {},
   "outputs": [
    {
     "data": {
      "text/html": [
       "<div>\n",
       "<style scoped>\n",
       "    .dataframe tbody tr th:only-of-type {\n",
       "        vertical-align: middle;\n",
       "    }\n",
       "\n",
       "    .dataframe tbody tr th {\n",
       "        vertical-align: top;\n",
       "    }\n",
       "\n",
       "    .dataframe thead th {\n",
       "        text-align: right;\n",
       "    }\n",
       "</style>\n",
       "<table border=\"1\" class=\"dataframe\">\n",
       "  <thead>\n",
       "    <tr style=\"text-align: right;\">\n",
       "      <th></th>\n",
       "      <th>Country</th>\n",
       "      <th>Features</th>\n",
       "      <th>Region</th>\n",
       "      <th>Year</th>\n",
       "      <th>Energy value</th>\n",
       "    </tr>\n",
       "  </thead>\n",
       "  <tbody>\n",
       "    <tr>\n",
       "      <th>0</th>\n",
       "      <td>Algeria</td>\n",
       "      <td>net generation</td>\n",
       "      <td>Africa</td>\n",
       "      <td>1980</td>\n",
       "      <td>6.683</td>\n",
       "    </tr>\n",
       "    <tr>\n",
       "      <th>1</th>\n",
       "      <td>Angola</td>\n",
       "      <td>net generation</td>\n",
       "      <td>Africa</td>\n",
       "      <td>1980</td>\n",
       "      <td>0.905</td>\n",
       "    </tr>\n",
       "    <tr>\n",
       "      <th>2</th>\n",
       "      <td>Benin</td>\n",
       "      <td>net generation</td>\n",
       "      <td>Africa</td>\n",
       "      <td>1980</td>\n",
       "      <td>0.005</td>\n",
       "    </tr>\n",
       "    <tr>\n",
       "      <th>3</th>\n",
       "      <td>Botswana</td>\n",
       "      <td>net generation</td>\n",
       "      <td>Africa</td>\n",
       "      <td>1980</td>\n",
       "      <td>0.443</td>\n",
       "    </tr>\n",
       "    <tr>\n",
       "      <th>4</th>\n",
       "      <td>Burkina Faso</td>\n",
       "      <td>net generation</td>\n",
       "      <td>Africa</td>\n",
       "      <td>1980</td>\n",
       "      <td>0.098</td>\n",
       "    </tr>\n",
       "  </tbody>\n",
       "</table>\n",
       "</div>"
      ],
      "text/plain": [
       "                Country        Features  Region  Year Energy value\n",
       "0               Algeria  net generation  Africa  1980        6.683\n",
       "1                Angola  net generation  Africa  1980        0.905\n",
       "2                 Benin  net generation  Africa  1980        0.005\n",
       "3              Botswana  net generation  Africa  1980        0.443\n",
       "4          Burkina Faso  net generation  Africa  1980        0.098"
      ]
     },
     "execution_count": 18,
     "metadata": {},
     "output_type": "execute_result"
    }
   ],
   "source": [
    "# Un-pivot years into a column and create the 'Energy value' column. \n",
    "df2=pd.melt(df, id_vars=['Country', 'Features', 'Region'], var_name='Year', value_name='Energy value')\n",
    "df2.head()"
   ]
  },
  {
   "cell_type": "code",
   "execution_count": 20,
   "id": "31569b71",
   "metadata": {},
   "outputs": [
    {
     "name": "stdout",
     "output_type": "stream",
     "text": [
      "<class 'pandas.core.frame.DataFrame'>\n",
      "RangeIndex: 66276 entries, 0 to 66275\n",
      "Data columns (total 5 columns):\n",
      " #   Column        Non-Null Count  Dtype \n",
      "---  ------        --------------  ----- \n",
      " 0   Country       66276 non-null  object\n",
      " 1   Features      66276 non-null  object\n",
      " 2   Region        66276 non-null  object\n",
      " 3   Year          66276 non-null  object\n",
      " 4   Energy value  66276 non-null  object\n",
      "dtypes: object(5)\n",
      "memory usage: 2.5+ MB\n"
     ]
    }
   ],
   "source": [
    "df2.info()"
   ]
  },
  {
   "cell_type": "code",
   "execution_count": 27,
   "id": "7cc69b44",
   "metadata": {},
   "outputs": [],
   "source": [
    "# Year and Energy value are object data type, so they are turned into integer and float. \n",
    "# the column 'Energy value' had non numerical values that are transfomed into NANs with the error method 'coerce'.\n",
    "df2.Year = df2.Year.astype('int64') \n",
    "df2['Energy value'] = pd.to_numeric(df2['Energy value'], errors='coerce').astype(float)"
   ]
  },
  {
   "cell_type": "code",
   "execution_count": 28,
   "id": "9f50a034",
   "metadata": {},
   "outputs": [
    {
     "name": "stdout",
     "output_type": "stream",
     "text": [
      "<class 'pandas.core.frame.DataFrame'>\n",
      "RangeIndex: 66276 entries, 0 to 66275\n",
      "Data columns (total 5 columns):\n",
      " #   Column        Non-Null Count  Dtype  \n",
      "---  ------        --------------  -----  \n",
      " 0   Country       66276 non-null  object \n",
      " 1   Features      66276 non-null  object \n",
      " 2   Region        66276 non-null  object \n",
      " 3   Year          66276 non-null  int64  \n",
      " 4   Energy value  61514 non-null  float64\n",
      "dtypes: float64(1), int64(1), object(3)\n",
      "memory usage: 2.5+ MB\n"
     ]
    }
   ],
   "source": [
    "df2.info()"
   ]
  },
  {
   "cell_type": "code",
   "execution_count": 39,
   "id": "670ffcbb",
   "metadata": {},
   "outputs": [
    {
     "data": {
      "text/plain": [
       "Country         0.000000\n",
       "Features        0.000000\n",
       "Region          0.000000\n",
       "Year            0.000000\n",
       "Energy value    7.185105\n",
       "dtype: float64"
      ]
     },
     "execution_count": 39,
     "metadata": {},
     "output_type": "execute_result"
    }
   ],
   "source": [
    "df2.isnull().sum()/len(df2)*100"
   ]
  },
  {
   "cell_type": "code",
   "execution_count": 34,
   "id": "b12a168a",
   "metadata": {
    "collapsed": true
   },
   "outputs": [
    {
     "data": {
      "text/html": [
       "<div>\n",
       "<style scoped>\n",
       "    .dataframe tbody tr th:only-of-type {\n",
       "        vertical-align: middle;\n",
       "    }\n",
       "\n",
       "    .dataframe tbody tr th {\n",
       "        vertical-align: top;\n",
       "    }\n",
       "\n",
       "    .dataframe thead th {\n",
       "        text-align: right;\n",
       "    }\n",
       "</style>\n",
       "<table border=\"1\" class=\"dataframe\">\n",
       "  <thead>\n",
       "    <tr style=\"text-align: right;\">\n",
       "      <th></th>\n",
       "      <th>Country</th>\n",
       "      <th>Features</th>\n",
       "      <th>Region</th>\n",
       "      <th>Year</th>\n",
       "      <th>Energy value</th>\n",
       "    </tr>\n",
       "  </thead>\n",
       "  <tbody>\n",
       "    <tr>\n",
       "      <th>17</th>\n",
       "      <td>Eritrea</td>\n",
       "      <td>net generation</td>\n",
       "      <td>Africa</td>\n",
       "      <td>1980</td>\n",
       "      <td>NaN</td>\n",
       "    </tr>\n",
       "    <tr>\n",
       "      <th>36</th>\n",
       "      <td>Namibia</td>\n",
       "      <td>net generation</td>\n",
       "      <td>Africa</td>\n",
       "      <td>1980</td>\n",
       "      <td>NaN</td>\n",
       "    </tr>\n",
       "    <tr>\n",
       "      <th>48</th>\n",
       "      <td>South Sudan</td>\n",
       "      <td>net generation</td>\n",
       "      <td>Africa</td>\n",
       "      <td>1980</td>\n",
       "      <td>NaN</td>\n",
       "    </tr>\n",
       "    <tr>\n",
       "      <th>57</th>\n",
       "      <td>Armenia</td>\n",
       "      <td>net generation</td>\n",
       "      <td>Eurasia</td>\n",
       "      <td>1980</td>\n",
       "      <td>NaN</td>\n",
       "    </tr>\n",
       "    <tr>\n",
       "      <th>58</th>\n",
       "      <td>Azerbaijan</td>\n",
       "      <td>net generation</td>\n",
       "      <td>Eurasia</td>\n",
       "      <td>1980</td>\n",
       "      <td>NaN</td>\n",
       "    </tr>\n",
       "    <tr>\n",
       "      <th>...</th>\n",
       "      <td>...</td>\n",
       "      <td>...</td>\n",
       "      <td>...</td>\n",
       "      <td>...</td>\n",
       "      <td>...</td>\n",
       "    </tr>\n",
       "    <tr>\n",
       "      <th>66138</th>\n",
       "      <td>Germany, West</td>\n",
       "      <td>distribution losses</td>\n",
       "      <td>Europe</td>\n",
       "      <td>2021</td>\n",
       "      <td>NaN</td>\n",
       "    </tr>\n",
       "    <tr>\n",
       "      <th>66178</th>\n",
       "      <td>Hawaiian Trade Zone</td>\n",
       "      <td>distribution losses</td>\n",
       "      <td>Asia &amp; Oceania</td>\n",
       "      <td>2021</td>\n",
       "      <td>NaN</td>\n",
       "    </tr>\n",
       "    <tr>\n",
       "      <th>66250</th>\n",
       "      <td>French Guiana</td>\n",
       "      <td>distribution losses</td>\n",
       "      <td>Central &amp; South America</td>\n",
       "      <td>2021</td>\n",
       "      <td>NaN</td>\n",
       "    </tr>\n",
       "    <tr>\n",
       "      <th>66252</th>\n",
       "      <td>Guadeloupe</td>\n",
       "      <td>distribution losses</td>\n",
       "      <td>Central &amp; South America</td>\n",
       "      <td>2021</td>\n",
       "      <td>NaN</td>\n",
       "    </tr>\n",
       "    <tr>\n",
       "      <th>66258</th>\n",
       "      <td>Martinique</td>\n",
       "      <td>distribution losses</td>\n",
       "      <td>Central &amp; South America</td>\n",
       "      <td>2021</td>\n",
       "      <td>NaN</td>\n",
       "    </tr>\n",
       "  </tbody>\n",
       "</table>\n",
       "<p>4762 rows × 5 columns</p>\n",
       "</div>"
      ],
      "text/plain": [
       "                           Country              Features  \\\n",
       "17                         Eritrea        net generation   \n",
       "36                         Namibia        net generation   \n",
       "48                     South Sudan        net generation   \n",
       "57                         Armenia        net generation   \n",
       "58                      Azerbaijan        net generation   \n",
       "...                            ...                   ...   \n",
       "66138                Germany, West  distribution losses    \n",
       "66178          Hawaiian Trade Zone  distribution losses    \n",
       "66250                French Guiana  distribution losses    \n",
       "66252                   Guadeloupe  distribution losses    \n",
       "66258                   Martinique  distribution losses    \n",
       "\n",
       "                        Region  Year  Energy value  \n",
       "17                      Africa  1980           NaN  \n",
       "36                      Africa  1980           NaN  \n",
       "48                      Africa  1980           NaN  \n",
       "57                     Eurasia  1980           NaN  \n",
       "58                     Eurasia  1980           NaN  \n",
       "...                        ...   ...           ...  \n",
       "66138                   Europe  2021           NaN  \n",
       "66178           Asia & Oceania  2021           NaN  \n",
       "66250  Central & South America  2021           NaN  \n",
       "66252  Central & South America  2021           NaN  \n",
       "66258  Central & South America  2021           NaN  \n",
       "\n",
       "[4762 rows x 5 columns]"
      ]
     },
     "execution_count": 34,
     "metadata": {},
     "output_type": "execute_result"
    }
   ],
   "source": [
    "# Dataframe with the null values is created to understand if there is a pattern in the null values, such as in certain years, features category or country. \n",
    "null_df = df2[df2.isnull().any(axis=1)]\n",
    "null_df"
   ]
  },
  {
   "cell_type": "code",
   "execution_count": 38,
   "id": "0da9b214",
   "metadata": {
    "collapsed": true
   },
   "outputs": [
    {
     "data": {
      "text/plain": [
       "Country\n",
       "        Hawaiian Trade Zone             245\n",
       "        South Sudan                     224\n",
       "        Germany, West                   217\n",
       "        Germany, East                   217\n",
       "        Former Yugoslavia               210\n",
       "        Former U.S.S.R.                 210\n",
       "        Former Czechoslovakia           203\n",
       "        Kosovo                          196\n",
       "        Former Serbia and Montenegro    196\n",
       "        Serbia                          182\n",
       "        Montenegro                      182\n",
       "        Timor-Leste                     161\n",
       "        Palestinian Territories         119\n",
       "        Eritrea                          98\n",
       "        Slovakia                         91\n",
       "        Czechia                          91\n",
       "        Uzbekistan                       84\n",
       "        Armenia                          84\n",
       "        Azerbaijan                       84\n",
       "        Belarus                          84\n",
       "        Georgia                          84\n",
       "        Kazakhstan                       84\n",
       "        Kyrgyzstan                       84\n",
       "        Moldova                          84\n",
       "        Russia                           84\n",
       "        Bosnia and Herzegovina           84\n",
       "        Slovenia                         84\n",
       "        Tajikistan                       84\n",
       "        North Macedonia                  84\n",
       "        Turkmenistan                     84\n",
       "        Lithuania                        84\n",
       "        Latvia                           84\n",
       "        Ukraine                          84\n",
       "        Estonia                          84\n",
       "        Croatia                          84\n",
       "        Germany                          77\n",
       "        Namibia                          70\n",
       "        Aruba                            42\n",
       "        Reunion                          34\n",
       "        Guadeloupe                       34\n",
       "        Martinique                       34\n",
       "        French Guiana                    33\n",
       "Name: count, dtype: int64"
      ]
     },
     "execution_count": 38,
     "metadata": {},
     "output_type": "execute_result"
    }
   ],
   "source": [
    "null_df['Country'].value_counts()"
   ]
  },
  {
   "cell_type": "code",
   "execution_count": 36,
   "id": "5717150e",
   "metadata": {
    "collapsed": true
   },
   "outputs": [
    {
     "data": {
      "text/plain": [
       "Features\n",
       "net generation          701\n",
       "installed capacity      701\n",
       "distribution losses     701\n",
       "exports                 669\n",
       "imports                 668\n",
       "net consumption         661\n",
       "net imports             661\n",
       "Name: count, dtype: int64"
      ]
     },
     "execution_count": 36,
     "metadata": {},
     "output_type": "execute_result"
    }
   ],
   "source": [
    "null_df['Features'].value_counts()"
   ]
  },
  {
   "cell_type": "code",
   "execution_count": 37,
   "id": "89033736",
   "metadata": {
    "collapsed": true
   },
   "outputs": [
    {
     "data": {
      "text/plain": [
       "array([1980, 1981, 1982, 1983, 1984, 1985, 1986, 1987, 1988, 1989, 1990,\n",
       "       1991, 1992, 1993, 1994, 1995, 1996, 1997, 1998, 1999, 2000, 2001,\n",
       "       2002, 2003, 2004, 2005, 2006, 2007, 2008, 2009, 2010, 2011, 2012,\n",
       "       2013, 2014, 2015, 2016, 2017, 2018, 2019, 2020, 2021], dtype=int64)"
      ]
     },
     "execution_count": 37,
     "metadata": {},
     "output_type": "execute_result"
    }
   ],
   "source": [
    "null_df['Year'].unique()"
   ]
  },
  {
   "cell_type": "code",
   "execution_count": 40,
   "id": "49dc20be",
   "metadata": {},
   "outputs": [],
   "source": [
    "# Null values are dropped. \n",
    "df2.dropna(axis=0, inplace=True)"
   ]
  },
  {
   "cell_type": "code",
   "execution_count": 41,
   "id": "3508a8a1",
   "metadata": {},
   "outputs": [
    {
     "data": {
      "text/plain": [
       "False"
      ]
     },
     "execution_count": 41,
     "metadata": {},
     "output_type": "execute_result"
    }
   ],
   "source": [
    "df2.isnull().values.any()"
   ]
  },
  {
   "cell_type": "code",
   "execution_count": null,
   "id": "1d86445c",
   "metadata": {},
   "outputs": [],
   "source": []
  }
 ],
 "metadata": {
  "kernelspec": {
   "display_name": "Python 3 (ipykernel)",
   "language": "python",
   "name": "python3"
  },
  "language_info": {
   "codemirror_mode": {
    "name": "ipython",
    "version": 3
   },
   "file_extension": ".py",
   "mimetype": "text/x-python",
   "name": "python",
   "nbconvert_exporter": "python",
   "pygments_lexer": "ipython3",
   "version": "3.11.5"
  }
 },
 "nbformat": 4,
 "nbformat_minor": 5
}
